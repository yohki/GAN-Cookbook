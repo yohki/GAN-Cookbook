{
  "nbformat": 4,
  "nbformat_minor": 0,
  "metadata": {
    "colab": {
      "name": "GAN Cookbook: DCGAN (1)",
      "version": "0.3.2",
      "provenance": [],
      "collapsed_sections": [],
      "toc_visible": true,
      "include_colab_link": true
    },
    "kernelspec": {
      "name": "python3",
      "display_name": "Python 3"
    },
    "accelerator": "GPU"
  },
  "cells": [
    {
      "cell_type": "markdown",
      "metadata": {
        "id": "view-in-github",
        "colab_type": "text"
      },
      "source": [
        "<a href=\"https://colab.research.google.com/github/yohki/GAN-Cookbook/blob/master/GAN_Cookbook_DCGAN_(1).ipynb\" target=\"_parent\"><img src=\"https://colab.research.google.com/assets/colab-badge.svg\" alt=\"Open In Colab\"/></a>"
      ]
    },
    {
      "cell_type": "markdown",
      "metadata": {
        "id": "lf0b3LSOuYhu",
        "colab_type": "text"
      },
      "source": [
        "# DCGANとは？\n",
        "\n",
        "DCGANはGANにCNN（Convolutional Neural Network = 畳み込みニューラルネットワーク）を用いることで精度のよい結果を出せるようにしたもの。\n",
        "\n",
        "![alt text](https://elix-tech.github.io/images/2017/gan/bedroom.png)"
      ]
    },
    {
      "cell_type": "markdown",
      "metadata": {
        "id": "eft2qoN5hSSE",
        "colab_type": "text"
      },
      "source": [
        "#畳み込み (Convolution) とは？\n",
        "画像に対するフィルタ処理の手法で、ある画素だけでなく、その周辺画素の情報も足し合わせる（畳み込む）ことで結果を出力する。\n",
        "\n",
        "![alt text](http://htsuda.net/wp-content/uploads/2017/09/convolve1.png)\n",
        "- [空間フィルタリングによる平滑化とエッジ検出](http://htsuda.net/archives/2064)\n",
        "\n",
        "\n",
        "周辺画素をどのぐらいの重みで足し合わせるかを決めるのが**フィルタ（カーネル）**。フィルタのサイズは奇数x奇数であればよい（中心のピクセルができる）が、3x3、5x5などが一般的。\n",
        "\n",
        "![alt text](http://htsuda.net/wp-content/uploads/2017/09/filters_average.png)\n",
        "\n",
        "例えば、3x3で全部の値が同じになっているフィルタを使えば、周辺を含めた9ピクセルの平均を取ることになるので、画像をぼかしたような効果が得られる。\n",
        "\n",
        "畳み込みフィルタはPhotoshopの「カスタム...」フィルタを使って実際に効果を試すことができる。\n",
        "\n",
        "平均化の例\n",
        "\n",
        "![alt text](https://drive.google.com/uc?id=1-uugPe2omm26XqEogePh8T12CJ-0anTZ)\n",
        "\n",
        "ラプラシアンフィルタ（エッジ検出）の例\n",
        "\n",
        "![alt text](https://drive.google.com/uc?id=1O8psJiW7MBGc9Imu5B7wvXXBh37tnRE_)"
      ]
    },
    {
      "cell_type": "markdown",
      "metadata": {
        "id": "qCzPjzs9KPC_",
        "colab_type": "text"
      },
      "source": [
        "# CNN (Convolutional Neural Network) とは？\n",
        "\n",
        "一般的なニューラルネットワークでは、2次元の画像を1次元に変換して処理するため画素同士の位置関係の情報が失われてしまうため、ちょっとした画像の回転や移動に弱い。\n",
        "\n",
        "![alt text](http://cs231n.github.io/assets/nn1/neural_net2.jpeg)\n",
        "\n",
        "ニューラルネットワークに畳み込み層を追加することで画像に特徴的な情報を保持できるようにし、認識精度を高めたのがCNN。\n",
        "\n",
        "![alt text](http://cs231n.github.io/assets/cnn/cnn.jpeg)\n",
        "\n",
        "CNNでは入力は幅×高さ×深さを持つ3次元ボリューム（テンソル）となる。例えば、幅32ピクセル、高さ32ピクセルのRGB画像だったら入力サイズは32x32x3である。\n",
        "\n",
        "\n",
        "CNNの全体的な構造の例は以下の通り。\n",
        "\n",
        "![alt text](https://deepage.net/img/convolutional_neural_network/cnn_thumb.jpg)\n",
        "\n",
        "## 畳み込み層 (Convolution Layer)\n",
        "畳み込み層では、入力の一部に対してカーネル（フィルタ）行列をかけて和をとることを繰り返して特徴マップを作成する。複数の特徴マップを作成することで、画像内の色々な特徴を捉えることができる。\n",
        "\n",
        "![alt text](https://deepage.net/img/convolutional_neural_network/animated_convolution.gif)\n",
        "\n",
        "このデモがとても分かりやすい。ここでは入力サイズが28x28x1、フィルタサイズが5x5x1、フィルタの数が8つなので、出力される特徴マップのサイズは25x25x8になる。\n",
        "\n",
        "*  デモ1: [Convolution all filters](https://ml4a.github.io/demos/convolution_all/)\n",
        "\n",
        "RGB画像のように入力のサイズがWxDx3になると、フィルタサイズも3x3x3や5x5x3となる。\n",
        "\n",
        "*   デモ2:  [Convolution Demo](http://cs231n.github.io/convolutional-networks/#conv)\n",
        "\n",
        "\n",
        "畳み込みの際にフィルタをずらす量を変えると、出力される特徴マップの大きさを変えることができる。この量を**ストライド**という。デモ1の例はストライド=1、デモ2の例はストライド=2である。\n",
        "\n",
        "## Max Pooling\n",
        "\n",
        "CNNでは畳み込み以外にもMax Poolingと呼ばれる手法でパラメータ数を削減し、抽象化することで過学習を防いでいる。\n",
        "\n",
        "これは単純に区切られた区画の中のピクセルで一番大きい値を採用して次の層へ送るというもの。\n",
        "\n",
        "![alt text](http://brohrer.github.io/images//cnn8.png)\n",
        "\n",
        "## 全結合層 (Fully Connected Layer)\n",
        "\n",
        "CNNは画像分類等に使われるので、10種類の画像分類であれば最終的には10個のノードからそれぞれの確率を出力する必要がある。その手前で3次元のボリュームを1次元に落としてフラットにし、最終的な出力ノードと接続する。これが全結合層で、1層だけの場合もあるし、複数入れる場合もある。\n",
        "\n",
        "![alt text](https://deepage.net/img/convolutional_neural_network/fully_connected_layer.jpg)\n",
        "\n",
        "全体のイメージをつかむには、以下のCNNの中身を3次元でビジュアライズしたデモが分かりやすい。\n",
        "\n",
        "* [3D Visualization of a Convolutional Neural Network](http://scs.ryerson.ca/~aharley/vis/conv/)\n",
        "\n",
        "\n",
        "#CNNの参考文献\n",
        "\n",
        "- アーティスト向け機械学習の講義資料（kynd先生訳） [畳み込みニューラルネットワーク](https://ml4a.github.io/ml4a/jp/convnets/)\n",
        "- スタンフォード大の講義資料 [CS231n Convolutional Neural Networks for Visual Recognition](http://cs231n.github.io/convolutional-networks/)\n",
        "- [定番のConvolutional Neural Networkをゼロから理解する](https://deepage.net/deep_learning/2016/11/07/convolutional_neural_network.html#fully-connected層)\n"
      ]
    },
    {
      "cell_type": "markdown",
      "metadata": {
        "id": "ltwXTi2AZKeR",
        "colab_type": "text"
      },
      "source": [
        "#DCGAN再び\n",
        "\n",
        "オリジナルのDCGANのモデルは以下の通り。\n",
        "\n",
        "![DCGANの構造](https://static.packt-cdn.com/products/9781789139907/graphics/a2edb3c3-e92c-41ae-a76d-ffd8cfa6dcc5.png)\n",
        "\n",
        "## Generator\n",
        "\n",
        "この本で紹介しているDCGANのモデル、およびCNNとの比較は以下の図の通り。\n",
        "\n",
        "![alt text](https://drive.google.com/uc?id=1AFHd0K9d5oxpoSIsczpkfHzuO_3OILJE)\n",
        "一般的なCNNは層が進むにつれて特徴マップのサイズが小さくなるが、それとは逆向きのイメージ。\n",
        "\n",
        "Max Poolingを使ったダウンサンプリングの代わりに、アップサンプリングを使って出力サイズを大きくしていっている。\n",
        "\n",
        "## Discriminator\n",
        "\n",
        "Discriminatorは2層の畳み込み層があるだけの比較的単純な構造。\n",
        "\n",
        "![alt text](https://drive.google.com/uc?id=1hP6PuCuwHefJhvbnTmJ5t1qyZqM17f5B)\n",
        "\n"
      ]
    },
    {
      "cell_type": "markdown",
      "metadata": {
        "id": "FuMw-x6zFqCi",
        "colab_type": "text"
      },
      "source": [
        "# LSUN\n",
        "\n",
        "GANではアルゴリズム開発（モデル構築）時と学習時で異なるデータを用いる。ここではLSUNを使ってモデルを構築する。LSUNはシーン別に分類された画像のデータセットで、機械学習やGANでよく用いられる。\n",
        "\n",
        "以下のシーンのデータセットがある。\n",
        "\n",
        "* bedroom\n",
        "* bridge\n",
        "* church_outdoor\n",
        "* classroom\n",
        "* conference_room\n",
        "* dining_room\n",
        "* kitchen\n",
        "* living_room\n",
        "* restaurant\n",
        "* tower \n"
      ]
    },
    {
      "cell_type": "markdown",
      "metadata": {
        "id": "26TkLSHdhKks",
        "colab_type": "text"
      },
      "source": [
        "## A. 変換済みデータを使う場合\n",
        "\n",
        "[リンク](https://drive.google.com/open?id=1zPp4sRbAXiZU7P8BNJn5ZWn5KHWJ29sR)を開き、自分のDriveにコピーする。"
      ]
    },
    {
      "cell_type": "markdown",
      "metadata": {
        "id": "2SOCbGt-gHmb",
        "colab_type": "text"
      },
      "source": [
        "##  B. 手動でやる場合\n",
        "\n",
        "### Google Driveのマウント"
      ]
    },
    {
      "cell_type": "code",
      "metadata": {
        "id": "LQvm61gXgLY7",
        "colab_type": "code",
        "outputId": "1f87c932-c0d3-465c-d684-c52e2dc1b29c",
        "colab": {
          "base_uri": "https://localhost:8080/",
          "height": 51
        }
      },
      "source": [
        "%cd /content\n",
        "from google.colab import drive\n",
        "drive.mount('./gdrive', force_remount=True)"
      ],
      "execution_count": 0,
      "outputs": [
        {
          "output_type": "stream",
          "text": [
            "/content\n",
            "Mounted at ./gdrive\n"
          ],
          "name": "stdout"
        }
      ]
    },
    {
      "cell_type": "markdown",
      "metadata": {
        "id": "WUoGvdCRhJbZ",
        "colab_type": "text"
      },
      "source": [
        "### リポジトリのチェックアウト"
      ]
    },
    {
      "cell_type": "code",
      "metadata": {
        "id": "AzHFVq5Ke0CJ",
        "colab_type": "code",
        "outputId": "e54f2ee3-68f9-45c5-ed20-71bc11429457",
        "colab": {
          "base_uri": "https://localhost:8080/",
          "height": 165
        }
      },
      "source": [
        "%cd '/content/gdrive/My Drive/Colab Notebooks/'\n",
        "!git clone https://github.com/yohki/lsun.git"
      ],
      "execution_count": 0,
      "outputs": [
        {
          "output_type": "stream",
          "text": [
            "/content/gdrive/My Drive/Colab Notebooks\n",
            "Cloning into 'lsun'...\n",
            "remote: Enumerating objects: 3, done.\u001b[K\n",
            "remote: Counting objects: 100% (3/3), done.\u001b[K\n",
            "remote: Compressing objects: 100% (3/3), done.\u001b[K\n",
            "remote: Total 75 (delta 0), reused 1 (delta 0), pack-reused 72\u001b[K\n",
            "Unpacking objects: 100% (75/75), done.\n"
          ],
          "name": "stdout"
        }
      ]
    },
    {
      "cell_type": "markdown",
      "metadata": {
        "id": "EOu3q0w5fGtW",
        "colab_type": "text"
      },
      "source": [
        "### データのダウンロード"
      ]
    },
    {
      "cell_type": "code",
      "metadata": {
        "id": "fncdFLo5yRKV",
        "colab_type": "code",
        "outputId": "37631d1a-a4fc-4333-fe1f-f4e48303468f",
        "colab": {
          "base_uri": "https://localhost:8080/",
          "height": 63
        }
      },
      "source": [
        "%cd '/content/gdrive/My Drive/Colab Notebooks/lsun'\n",
        "!mkdir -p data"
      ],
      "execution_count": 0,
      "outputs": [
        {
          "output_type": "stream",
          "text": [
            "/content/gdrive/My Drive/Colab Notebooks/lsun\n"
          ],
          "name": "stdout"
        }
      ]
    },
    {
      "cell_type": "code",
      "metadata": {
        "id": "Aw3mVUoIiYxo",
        "colab_type": "code",
        "colab": {}
      },
      "source": [
        "!python download.py -o data -c church_outdoor"
      ],
      "execution_count": 0,
      "outputs": []
    },
    {
      "cell_type": "markdown",
      "metadata": {
        "id": "iDt5YEWs0CG2",
        "colab_type": "text"
      },
      "source": [
        " zipファイルがダウンロードされるので解凍する。\n",
        " "
      ]
    },
    {
      "cell_type": "code",
      "metadata": {
        "id": "ZrrZEstoz-uR",
        "colab_type": "code",
        "outputId": "47e234fa-eb7b-4717-c4c4-f357d1b7b082",
        "colab": {
          "base_uri": "https://localhost:8080/",
          "height": 182
        }
      },
      "source": [
        "!unzip data/church_outdoor_train_lmdb.zip -d data\n",
        "!unzip data/church_outdoor_val_lmdb.zip -d data"
      ],
      "execution_count": 0,
      "outputs": [
        {
          "output_type": "stream",
          "text": [
            "Archive:  data/church_outdoor_train_lmdb.zip\n",
            "   creating: data/church_outdoor_train_lmdb/\n",
            "  inflating: data/church_outdoor_train_lmdb/lock.mdb  \n",
            "  inflating: data/church_outdoor_train_lmdb/data.mdb  \n",
            "Archive:  data/church_outdoor_val_lmdb.zip\n",
            "   creating: data/church_outdoor_val_lmdb/\n",
            "  inflating: data/church_outdoor_val_lmdb/lock.mdb  \n",
            "  inflating: data/church_outdoor_val_lmdb/data.mdb  \n"
          ],
          "name": "stdout"
        }
      ]
    },
    {
      "cell_type": "markdown",
      "metadata": {
        "id": "iZ4aCwWsbcen",
        "colab_type": "text"
      },
      "source": [
        "### データ展開\n",
        " \n",
        " データアーカイブを個別の.webpファイルに変換する（數十分かかります）。"
      ]
    },
    {
      "cell_type": "code",
      "metadata": {
        "id": "Lm9FnUSdbU4k",
        "colab_type": "code",
        "outputId": "30652f1a-f0eb-4fb6-cf68-14e76e8eec47",
        "colab": {
          "base_uri": "https://localhost:8080/",
          "height": 1000
        }
      },
      "source": [
        "%cd '/content/gdrive/My Drive/Colab Notebooks/lsun'\n",
        "!python data.py export data/church_outdoor_train_lmdb --out_dir data/church_outdoor_train_lmdb/expanded --flat"
      ],
      "execution_count": 0,
      "outputs": [
        {
          "output_type": "stream",
          "text": [
            "/content/gdrive/My Drive/Colab Notebooks/lsun\n",
            "Exporting data/church_outdoor_train_lmdb to data/church_outdoor_train_lmdb/expanded\n",
            "Finished 1000 images\n",
            "Finished 2000 images\n",
            "Finished 3000 images\n",
            "Finished 4000 images\n",
            "Finished 5000 images\n",
            "Finished 6000 images\n",
            "Finished 7000 images\n",
            "Finished 8000 images\n",
            "Finished 9000 images\n",
            "Finished 10000 images\n",
            "Finished 11000 images\n",
            "Finished 12000 images\n",
            "Finished 13000 images\n",
            "Finished 14000 images\n",
            "Finished 15000 images\n",
            "Finished 16000 images\n",
            "Finished 17000 images\n",
            "Finished 18000 images\n",
            "Finished 19000 images\n",
            "Finished 20000 images\n",
            "Finished 21000 images\n",
            "Finished 22000 images\n",
            "Finished 23000 images\n",
            "Finished 24000 images\n",
            "Finished 25000 images\n",
            "Finished 26000 images\n",
            "Finished 27000 images\n",
            "Finished 28000 images\n",
            "Finished 29000 images\n",
            "Finished 30000 images\n",
            "Finished 31000 images\n",
            "Finished 32000 images\n",
            "Finished 33000 images\n",
            "Finished 34000 images\n",
            "Finished 35000 images\n",
            "Finished 36000 images\n",
            "Finished 37000 images\n",
            "Finished 38000 images\n",
            "Finished 39000 images\n",
            "Finished 40000 images\n",
            "Finished 41000 images\n",
            "Finished 42000 images\n",
            "Finished 43000 images\n",
            "Finished 44000 images\n",
            "Finished 45000 images\n",
            "Finished 46000 images\n",
            "Finished 47000 images\n",
            "Finished 48000 images\n",
            "Finished 49000 images\n",
            "Finished 50000 images\n",
            "Finished 51000 images\n",
            "Finished 52000 images\n",
            "Finished 53000 images\n",
            "Finished 54000 images\n",
            "Finished 55000 images\n",
            "Finished 56000 images\n",
            "Finished 57000 images\n",
            "Finished 58000 images\n",
            "Finished 59000 images\n",
            "Finished 60000 images\n",
            "Finished 61000 images\n",
            "Finished 62000 images\n",
            "Finished 63000 images\n",
            "Finished 64000 images\n",
            "Finished 65000 images\n",
            "Finished 66000 images\n",
            "Finished 67000 images\n",
            "Finished 68000 images\n",
            "Finished 69000 images\n",
            "Finished 70000 images\n",
            "Finished 71000 images\n",
            "Finished 72000 images\n",
            "Finished 73000 images\n",
            "Finished 74000 images\n",
            "Finished 75000 images\n",
            "Finished 76000 images\n",
            "Finished 77000 images\n",
            "Finished 78000 images\n",
            "Finished 79000 images\n",
            "Finished 80000 images\n",
            "Finished 81000 images\n",
            "Finished 82000 images\n",
            "Finished 83000 images\n",
            "Finished 84000 images\n",
            "Finished 85000 images\n",
            "Finished 86000 images\n",
            "Finished 87000 images\n",
            "Finished 88000 images\n",
            "Finished 89000 images\n",
            "Finished 90000 images\n",
            "Finished 91000 images\n",
            "Finished 92000 images\n",
            "Finished 93000 images\n",
            "Finished 94000 images\n",
            "Finished 95000 images\n",
            "Finished 96000 images\n",
            "Finished 97000 images\n",
            "Finished 98000 images\n",
            "Finished 99000 images\n",
            "Finished 100000 images\n",
            "Finished 101000 images\n",
            "Finished 102000 images\n",
            "Finished 103000 images\n",
            "Finished 104000 images\n",
            "Finished 105000 images\n",
            "Finished 106000 images\n",
            "Finished 107000 images\n",
            "Finished 108000 images\n",
            "Finished 109000 images\n",
            "Finished 110000 images\n",
            "Finished 111000 images\n",
            "Finished 112000 images\n",
            "Finished 113000 images\n",
            "Finished 114000 images\n",
            "Finished 115000 images\n",
            "Finished 116000 images\n",
            "Finished 117000 images\n",
            "Finished 118000 images\n",
            "Finished 119000 images\n",
            "Finished 120000 images\n",
            "Finished 121000 images\n",
            "Finished 122000 images\n",
            "Finished 123000 images\n",
            "Finished 124000 images\n",
            "Finished 125000 images\n",
            "Finished 126000 images\n"
          ],
          "name": "stdout"
        }
      ]
    },
    {
      "cell_type": "markdown",
      "metadata": {
        "id": "Rbi-USd_iiWB",
        "colab_type": "text"
      },
      "source": [
        "### データの読み込み\n",
        "\n",
        "展開された.webpフォーマットのファイルを1つずつ開いてリサイズし、配列に変換してpythonのファイルとして保存する（これも數十分かかります）。"
      ]
    },
    {
      "cell_type": "code",
      "metadata": {
        "id": "4lKK-NvisPfu",
        "colab_type": "code",
        "outputId": "d0bfa25b-9d35-46dd-c177-d8b538ce8292",
        "colab": {
          "base_uri": "https://localhost:8080/",
          "height": 51
        }
      },
      "source": [
        "%cd '/content/gdrive/My Drive/Colab Notebooks/lsun/data'\n",
        "import os\n",
        "print(len(os.listdir(\"church_outdoor_train_lmdb/expanded/\")))"
      ],
      "execution_count": 0,
      "outputs": [
        {
          "output_type": "stream",
          "text": [
            "/content/gdrive/My Drive/Colab Notebooks/lsun/data\n",
            "126227\n"
          ],
          "name": "stdout"
        }
      ]
    },
    {
      "cell_type": "code",
      "metadata": {
        "id": "Cefh1c3esZ82",
        "colab_type": "code",
        "colab": {}
      },
      "source": [
        "from PIL import Image\n",
        "import numpy as np\n",
        "import os\n",
        "\n",
        "def grabListOfFiles(startingDirectory,extension=\".webp\"):\n",
        "  files = os.listdir(startingDirectory)\n",
        "  listOfFiles = []\n",
        "  for file in files:\n",
        "    if file.endswith(extension):\n",
        "      listOfFiles.append(os.path.join(startingDirectory, file))\n",
        "  return listOfFiles\n",
        "  \n",
        "def grabArrayOfImages(listOfFiles,resizeW=64,resizeH=64,gray=False):\n",
        "  imageArr = []\n",
        "  i = 0\n",
        "  for f in listOfFiles:\n",
        "    if gray:\n",
        "      im = Image.open(f).convert(\"L\")\n",
        "    else:\n",
        "      im = Image.open(f).convert(\"RGB\")\n",
        "    im = im.resize((resizeW,resizeH))\n",
        "    imData = np.asarray(im)\n",
        "    imageArr.append(imData)\n",
        "    \n",
        "    i += 1\n",
        "    if i % 1000 == 0:\n",
        "      print(str(i) + \" files finished.\")\n",
        "      \n",
        "  return imageArr\n",
        "\n",
        "direc = \"church_outdoor_train_lmdb/expanded/\"\n",
        "listOfFiles = grabListOfFiles(direc)\n",
        "imageArrGray = grabArrayOfImages(listOfFiles,resizeW=64,resizeH=64,gray=True)\n",
        "imageArrColor = grabArrayOfImages(listOfFiles,resizeW=64,resizeH=64)\n",
        "\n",
        "print(\"Shape of ImageArr Gray: \", np.shape(imageArrGray))\n",
        "print(\"Shape of ImageArr Color: \", np.shape(imageArrColor))\n",
        "\n",
        "np.save('church_outdoor_train_lmdb_gray.npy', imageArrGray)\n",
        "np.save('church_outdoor_train_lmdb_color.npy', imageArrColor)"
      ],
      "execution_count": 0,
      "outputs": []
    },
    {
      "cell_type": "markdown",
      "metadata": {
        "id": "hkF8jcr7s1cA",
        "colab_type": "text"
      },
      "source": [
        "1GBと500MBぐらいの.npyファイルができていればOK。"
      ]
    }
  ]
}